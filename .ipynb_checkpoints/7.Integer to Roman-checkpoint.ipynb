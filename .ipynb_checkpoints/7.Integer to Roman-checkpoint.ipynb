{
 "cells": [
  {
   "cell_type": "code",
   "execution_count": 1,
   "metadata": {
    "collapsed": true
   },
   "outputs": [],
   "source": [
    "# https://leetcode.com/problems/integer-to-roman/\n",
    "\n",
    "class Solution:\n",
    "    def intToRoman(self, num):\n",
    "        # principle1\n",
    "        # largest to smallest\n",
    "        # from left to right    \n",
    "        # principle2 는 principle1에 속함\n",
    "        # 4, 9, 40, 90, 400, 900\n",
    "        dict_list = {1000:'M',500:'D',100:'C',50:'L',10:'X',5:'V',1:'I',\n",
    "                     4:'IV',9:'IX',40:'XL',90:'XC',400:'CD',900:'CM'}\n",
    "        roman_s = ''                 \n",
    "        #1. quotient = 3994 // 1000\n",
    "        #2. roman_s = quotient * dict_list[1000]이게 value --> 'MMM'\n",
    "        #3. num = 3994 % 1000\n",
    "        \n",
    "        #1. quotient = num // 900  왜냐하면 그다음큰게 900 이니까\n",
    "        #2. roman_s = quotient * value_s --> 'D'\n",
    "        #3. num = num % 900\n",
    "        # else:\n",
    "        for key, value_s in sorted(dict_list.items(), reverse=True):\n",
    "            quotient = num // key\n",
    "            print(key, quotient, num)\n",
    "            roman_s = roman_s + quotient * value_s\n",
    "            num = num % key\n",
    "        \n",
    "        return roman_s"
   ]
  },
  {
   "cell_type": "code",
   "execution_count": null,
   "metadata": {
    "collapsed": true
   },
   "outputs": [],
   "source": []
  }
 ],
 "metadata": {
  "anaconda-cloud": {},
  "kernelspec": {
   "display_name": "Python [Root]",
   "language": "python",
   "name": "Python [Root]"
  },
  "language_info": {
   "codemirror_mode": {
    "name": "ipython",
    "version": 3
   },
   "file_extension": ".py",
   "mimetype": "text/x-python",
   "name": "python",
   "nbconvert_exporter": "python",
   "pygments_lexer": "ipython3",
   "version": "3.5.4"
  }
 },
 "nbformat": 4,
 "nbformat_minor": 0
}
