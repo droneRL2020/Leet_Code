{
 "cells": [
  {
   "cell_type": "code",
   "execution_count": 1,
   "metadata": {
    "collapsed": true
   },
   "outputs": [],
   "source": [
    "# https://leetcode.com/problems/longest-palindromic-substring/\n",
    "\n",
    "def helper(s, left, right):\n",
    "        while left >= 0 and right < len(s) and s[left] == s[right]:\n",
    "            left -= 1\n",
    "            right += 1\n",
    "        return s[left+1:right]\n",
    "    \n",
    "class Solution:\n",
    "    def longestPalindrome(self, s):\n",
    "        temp = ''\n",
    "        for i in range(len(s)):\n",
    "            curr_str = helper(s,i,i)\n",
    "            if len(curr_str) > len(temp):\n",
    "                temp = curr_str\n",
    "                \n",
    "            curr_str = helper(s,i,i+1)\n",
    "            if len(curr_str) > len(temp):\n",
    "                temp = curr_str\n",
    "        return temp"
   ]
  },
  {
   "cell_type": "code",
   "execution_count": null,
   "metadata": {
    "collapsed": true
   },
   "outputs": [],
   "source": []
  }
 ],
 "metadata": {
  "anaconda-cloud": {},
  "kernelspec": {
   "display_name": "Python [Root]",
   "language": "python",
   "name": "Python [Root]"
  },
  "language_info": {
   "codemirror_mode": {
    "name": "ipython",
    "version": 3
   },
   "file_extension": ".py",
   "mimetype": "text/x-python",
   "name": "python",
   "nbconvert_exporter": "python",
   "pygments_lexer": "ipython3",
   "version": "3.5.4"
  }
 },
 "nbformat": 4,
 "nbformat_minor": 0
}
