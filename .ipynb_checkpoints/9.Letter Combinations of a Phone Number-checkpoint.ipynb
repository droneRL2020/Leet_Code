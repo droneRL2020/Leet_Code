{
 "cells": [
  {
   "cell_type": "code",
   "execution_count": 1,
   "metadata": {
    "collapsed": true
   },
   "outputs": [],
   "source": [
    "class Solution:\n",
    "    def letterCombinations(self, digits):\n",
    "        if digits == \"\":\n",
    "                return []\n",
    "\n",
    "        nums_to_letters = {\n",
    "            2: \"abc\",\n",
    "            3: \"def\",\n",
    "            4: \"ghi\",\n",
    "            5: \"jkl\",\n",
    "            6: \"mno\",\n",
    "            7: \"pqrs\",\n",
    "            8: \"tuv\",\n",
    "            9: \"wxyz\"\n",
    "        }\n",
    "\n",
    "        combinations = [\"\"]\n",
    "        for digit in digits:\n",
    "            new_combinations = []\n",
    "            for comb in combinations:\n",
    "                for letter in nums_to_letters[int(digit)]:\n",
    "                    new_combinations.append(comb + letter)\n",
    "\n",
    "            combinations = new_combinations\n",
    "        return combinations"
   ]
  },
  {
   "cell_type": "code",
   "execution_count": null,
   "metadata": {
    "collapsed": true
   },
   "outputs": [],
   "source": []
  }
 ],
 "metadata": {
  "anaconda-cloud": {},
  "kernelspec": {
   "display_name": "Python [Root]",
   "language": "python",
   "name": "Python [Root]"
  },
  "language_info": {
   "codemirror_mode": {
    "name": "ipython",
    "version": 3
   },
   "file_extension": ".py",
   "mimetype": "text/x-python",
   "name": "python",
   "nbconvert_exporter": "python",
   "pygments_lexer": "ipython3",
   "version": "3.5.4"
  }
 },
 "nbformat": 4,
 "nbformat_minor": 2
}
