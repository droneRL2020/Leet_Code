{
 "cells": [
  {
   "cell_type": "code",
   "execution_count": null,
   "metadata": {
    "collapsed": true
   },
   "outputs": [],
   "source": [
    "# https://leetcode.com/problems/container-with-most-water/\n",
    "\n",
    "class Solution:\n",
    "    def maxArea(self, height):\n",
    "        # 초기 area\n",
    "        area = 0 \n",
    "        curr_area = 0\n",
    "        left_x = 0\n",
    "        right_x = -1\n",
    "        # left_x,right_x 중간지점올때까지\n",
    "        while left_x-right_x+1 <= len(height):\n",
    "            left_height = height[left_x]\n",
    "            right_height = height[right_x]\n",
    "            length = len(height) + right_x - left_x\n",
    "            if left_height <= right_height:\n",
    "                curr_area = left_height * length\n",
    "                left_x += 1\n",
    "            else:\n",
    "                curr_area = right_height * length\n",
    "                right_x -= 1\n",
    "            if curr_area > area:\n",
    "                area = curr_area\n",
    "        return area"
   ]
  }
 ],
 "metadata": {
  "anaconda-cloud": {},
  "kernelspec": {
   "display_name": "Python [Root]",
   "language": "python",
   "name": "Python [Root]"
  },
  "language_info": {
   "codemirror_mode": {
    "name": "ipython",
    "version": 3
   },
   "file_extension": ".py",
   "mimetype": "text/x-python",
   "name": "python",
   "nbconvert_exporter": "python",
   "pygments_lexer": "ipython3",
   "version": "3.5.4"
  }
 },
 "nbformat": 4,
 "nbformat_minor": 0
}
