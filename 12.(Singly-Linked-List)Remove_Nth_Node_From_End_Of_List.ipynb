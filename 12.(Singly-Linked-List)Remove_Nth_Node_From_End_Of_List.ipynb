{
 "cells": [
  {
   "cell_type": "code",
   "execution_count": null,
   "metadata": {
    "collapsed": true
   },
   "outputs": [],
   "source": [
    "# Definition for singly-linked list.\n",
    "class ListNode:\n",
    "    def __init__(self, x):\n",
    "        self.val = x\n",
    "        self.next = None\n",
    "class Solution:\n",
    "    def removeNthFromEnd(self, head, n):\n",
    "        current = head\n",
    "        length = 0\n",
    "        while current is not None:\n",
    "            current = current.next\n",
    "            length += 1\n",
    "        position = length - n\n",
    "        print(length, position)\n",
    "        \n",
    "        current = head\n",
    "        if position == 0:\n",
    "            head = current.next\n",
    "            current = None\n",
    "            return head\n",
    "       \n",
    "        count = 1\n",
    "        previous = None\n",
    "        while current and count != position:\n",
    "            previous = current\n",
    "            current = current.next\n",
    "            count += 1\n",
    "        if current is None:\n",
    "            print(\"position is larger than number of elements\")\n",
    "            return\n",
    "        current.next = current.next.next\n",
    "        current = None       \n",
    "        return head\n",
    "        "
   ]
  }
 ],
 "metadata": {
  "kernelspec": {
   "display_name": "Python [Root]",
   "language": "python",
   "name": "Python [Root]"
  },
  "language_info": {
   "codemirror_mode": {
    "name": "ipython",
    "version": 3
   },
   "file_extension": ".py",
   "mimetype": "text/x-python",
   "name": "python",
   "nbconvert_exporter": "python",
   "pygments_lexer": "ipython3",
   "version": "3.5.4"
  }
 },
 "nbformat": 4,
 "nbformat_minor": 0
}
