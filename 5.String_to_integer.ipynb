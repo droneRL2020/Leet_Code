{
 "cells": [
  {
   "cell_type": "code",
   "execution_count": 1,
   "metadata": {
    "collapsed": true
   },
   "outputs": [],
   "source": [
    "# https://leetcode.com/problems/string-to-integer-atoi/\n",
    "\n",
    "class Solution:\n",
    "    def myAtoi(self, s):\n",
    "        s_list = ['0','1','2','3','4','5','6','7','8','9']\n",
    "        number_str = ''\n",
    "        # to tackle '42'\n",
    "        s += '#'\n",
    "        # to tackle '  -4  2' 앞의 빈칸은 지우는데 사이는 지우면 안됨\n",
    "        k = 0\n",
    "        while s[k] == ' ':\n",
    "            k += 1\n",
    "        s = s[k:]\n",
    "        # if -로 시작하는지 +로 시작하면 +42 나 -42 를 42로 바꿔주고 나중에 \n",
    "        # number_str에더해준뒤 int 변환해주면 됨, 근데 sign이 빈값 에러안뜨게 ''정의\n",
    "        sign = ''\n",
    "        if s.startswith('-') or s.startswith('+'):\n",
    "            sign = s[0]\n",
    "            s = s[1:]\n",
    "        # number_str에 숫자가 있으면 더한다\n",
    "        i = 0\n",
    "        while s[i] in s_list:\n",
    "            number_str += s[i]\n",
    "            i += 1\n",
    "        \n",
    "        \n",
    "        \n",
    "        # if number_str == '' -> 0\n",
    "        if number_str == '':\n",
    "            number = 0\n",
    "        # 여기서 -02 -> -2로 바뀜\n",
    "        else:\n",
    "            number_str = sign + number_str\n",
    "            number = int(number_str)\n",
    "        \n",
    "        if number > 2**31 - 1:\n",
    "            number = 2**31 - 1\n",
    "        elif number < -2**31:\n",
    "            number = -2**31\n",
    "            \n",
    "        return number "
   ]
  },
  {
   "cell_type": "code",
   "execution_count": null,
   "metadata": {
    "collapsed": true
   },
   "outputs": [],
   "source": []
  }
 ],
 "metadata": {
  "anaconda-cloud": {},
  "kernelspec": {
   "display_name": "Python [Root]",
   "language": "python",
   "name": "Python [Root]"
  },
  "language_info": {
   "codemirror_mode": {
    "name": "ipython",
    "version": 3
   },
   "file_extension": ".py",
   "mimetype": "text/x-python",
   "name": "python",
   "nbconvert_exporter": "python",
   "pygments_lexer": "ipython3",
   "version": "3.5.4"
  }
 },
 "nbformat": 4,
 "nbformat_minor": 0
}
