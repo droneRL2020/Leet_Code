{
 "cells": [
  {
   "cell_type": "markdown",
   "metadata": {},
   "source": [
    "## Linked List Study\n",
    "https://github.com/minsuk-heo/problemsolving/blob/master/data_structure/LinkedList.py"
   ]
  },
  {
   "cell_type": "code",
   "execution_count": 21,
   "metadata": {
    "collapsed": true
   },
   "outputs": [],
   "source": [
    "class Node:\n",
    "    def __init__(self, item):\n",
    "        self.value = item\n",
    "        self.next = None"
   ]
  },
  {
   "cell_type": "code",
   "execution_count": 75,
   "metadata": {
    "collapsed": false
   },
   "outputs": [],
   "source": [
    "class LinkedList:\n",
    "    def __init__(self, item):\n",
    "        self.head = Node(item)\n",
    "    def add(self, item):\n",
    "        current = self.head\n",
    "        while current.next is not None:\n",
    "            current = current.next\n",
    "        current.next = Node(item)\n",
    "    def printlist(self):\n",
    "        current = self.head\n",
    "        while current is not None:\n",
    "            print(current.value)\n",
    "            current = current.next\n",
    "    # 2 Cases\n",
    "    # 1. when removing head we need to move head to next Node\n",
    "    # Because when we loop linked list we always start from head\n",
    "    # So, if we remove head without moving head to next node\n",
    "    # Linked List outputs error\n",
    "    def remove(self, item):\n",
    "        if self.head.value == item:\n",
    "            self.head = self.head.next\n",
    "        else:\n",
    "            current = self.head\n",
    "            while current.next is not None:\n",
    "                if current.value == item:\n",
    "                    self.removeItem(item)\n",
    "                    return \n",
    "                current = current.next\n",
    "            print(\"item does not exit in linked list\")\n",
    "    \n",
    "    def remove_at_pos(self, position):\n",
    "        current = self.head\n",
    "        if position == 0:\n",
    "            self.head = current.next\n",
    "            current = None\n",
    "            return\n",
    "        count = 1\n",
    "        previous = None\n",
    "        while current and count != position:\n",
    "            previous = current\n",
    "            current = current.next\n",
    "            count += 1\n",
    "        if current is None:\n",
    "            print(\"position is greater than number of elements\")\n",
    "            return\n",
    "        current.next = current.next.next\n",
    "        current = None\n",
    "    \n",
    "    def removeItem(self, item):\n",
    "        current = self.head\n",
    "        while current.next is not None:\n",
    "            if current.next.value == item:\n",
    "                current.next = current.next.next\n",
    "                break\n",
    "    \n",
    "    \n",
    "    def reverse(self):\n",
    "        previous = None\n",
    "        current = self.head\n",
    "        while current is not None:\n",
    "            next = current.next\n",
    "            current.next = previous\n",
    "            previous = current\n",
    "            current = next\n",
    "        self.head = previous"
   ]
  },
  {
   "cell_type": "code",
   "execution_count": 90,
   "metadata": {
    "collapsed": false
   },
   "outputs": [],
   "source": [
    "ll = LinkedList(3)"
   ]
  },
  {
   "cell_type": "code",
   "execution_count": 91,
   "metadata": {
    "collapsed": false
   },
   "outputs": [],
   "source": [
    "ll.add(4)"
   ]
  },
  {
   "cell_type": "code",
   "execution_count": 92,
   "metadata": {
    "collapsed": false
   },
   "outputs": [],
   "source": [
    "ll.add(5)"
   ]
  },
  {
   "cell_type": "code",
   "execution_count": 93,
   "metadata": {
    "collapsed": false
   },
   "outputs": [
    {
     "name": "stdout",
     "output_type": "stream",
     "text": [
      "3\n",
      "4\n",
      "5\n"
     ]
    }
   ],
   "source": [
    "ll.printlist()"
   ]
  },
  {
   "cell_type": "code",
   "execution_count": 94,
   "metadata": {
    "collapsed": false
   },
   "outputs": [],
   "source": [
    "ll.remove_at_pos(2)"
   ]
  },
  {
   "cell_type": "code",
   "execution_count": 95,
   "metadata": {
    "collapsed": false
   },
   "outputs": [
    {
     "name": "stdout",
     "output_type": "stream",
     "text": [
      "3\n",
      "4\n"
     ]
    }
   ],
   "source": [
    "ll.printlist()"
   ]
  },
  {
   "cell_type": "code",
   "execution_count": null,
   "metadata": {
    "collapsed": true
   },
   "outputs": [],
   "source": []
  }
 ],
 "metadata": {
  "anaconda-cloud": {},
  "kernelspec": {
   "display_name": "Python [Root]",
   "language": "python",
   "name": "Python [Root]"
  },
  "language_info": {
   "codemirror_mode": {
    "name": "ipython",
    "version": 3
   },
   "file_extension": ".py",
   "mimetype": "text/x-python",
   "name": "python",
   "nbconvert_exporter": "python",
   "pygments_lexer": "ipython3",
   "version": "3.5.4"
  }
 },
 "nbformat": 4,
 "nbformat_minor": 0
}
