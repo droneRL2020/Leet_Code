{
 "cells": [
  {
   "cell_type": "code",
   "execution_count": 11,
   "metadata": {
    "collapsed": true
   },
   "outputs": [],
   "source": [
    "class Solution:\n",
    "    def fourSum(self, nums, target):\n",
    "        nums.sort()\n",
    "        solution = []\n",
    "        for i in range(len(nums)-3):\n",
    "            # To make better\n",
    "            if i > 0 and nums[i] == nums[i-1]:\n",
    "                continue\n",
    "            for j in range(i+1, len(nums)-2):\n",
    "                left = j + 1\n",
    "                right = len(nums) - 1\n",
    "                while left < right:\n",
    "                    total = nums[i] + nums[j] + nums[left] +nums[right]\n",
    "                    if total < target:\n",
    "                        left += 1\n",
    "                    elif total > target:\n",
    "                        right -= 1\n",
    "                    else:\n",
    "                        num_list = [nums[i],nums[j],nums[left],nums[right]]\n",
    "                        if num_list not in solution:\n",
    "                            solution.append([nums[i],nums[j],nums[left],nums[right]])\n",
    "                        while left < right and nums[left] == nums[left+1]:\n",
    "                            left += 1\n",
    "                        while left < right and nums[right] == nums[right-1]:\n",
    "                            right -= 1\n",
    "                        left += 1\n",
    "                        right -= 1                       \n",
    "                        \n",
    "        return solution\n",
    "                "
   ]
  },
  {
   "cell_type": "code",
   "execution_count": 12,
   "metadata": {
    "collapsed": false
   },
   "outputs": [
    {
     "data": {
      "text/plain": [
       "[[-5, 1, 3, 5]]"
      ]
     },
     "execution_count": 12,
     "metadata": {},
     "output_type": "execute_result"
    }
   ],
   "source": [
    "a = Solution()\n",
    "a.fourSum([5,5,3,5,1,-5,1,-2],4 )"
   ]
  },
  {
   "cell_type": "code",
   "execution_count": null,
   "metadata": {
    "collapsed": true
   },
   "outputs": [],
   "source": []
  }
 ],
 "metadata": {
  "anaconda-cloud": {},
  "kernelspec": {
   "display_name": "Python [Root]",
   "language": "python",
   "name": "Python [Root]"
  },
  "language_info": {
   "codemirror_mode": {
    "name": "ipython",
    "version": 3
   },
   "file_extension": ".py",
   "mimetype": "text/x-python",
   "name": "python",
   "nbconvert_exporter": "python",
   "pygments_lexer": "ipython3",
   "version": "3.5.4"
  }
 },
 "nbformat": 4,
 "nbformat_minor": 0
}
